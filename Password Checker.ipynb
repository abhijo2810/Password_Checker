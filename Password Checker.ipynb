{
 "cells": [
  {
   "cell_type": "code",
   "execution_count": 1,
   "id": "dd762dee",
   "metadata": {},
   "outputs": [
    {
     "name": "stdout",
     "output_type": "stream",
     "text": [
      "Abhigyan Johori, your password ********* is 9 characters long\n"
     ]
    }
   ],
   "source": [
    "username = 'Abhigyan Johori'\n",
    "password = 'BatmanRox'\n",
    "\n",
    "number = len(password)\n",
    "that = '*'* len(password)\n",
    "\n",
    "print(f'{username}, your password {that} is {number} characters long')"
   ]
  },
  {
   "cell_type": "code",
   "execution_count": null,
   "id": "7e36a5ff",
   "metadata": {},
   "outputs": [],
   "source": []
  }
 ],
 "metadata": {
  "kernelspec": {
   "display_name": "Python 3 (ipykernel)",
   "language": "python",
   "name": "python3"
  },
  "language_info": {
   "codemirror_mode": {
    "name": "ipython",
    "version": 3
   },
   "file_extension": ".py",
   "mimetype": "text/x-python",
   "name": "python",
   "nbconvert_exporter": "python",
   "pygments_lexer": "ipython3",
   "version": "3.10.11"
  }
 },
 "nbformat": 4,
 "nbformat_minor": 5
}
